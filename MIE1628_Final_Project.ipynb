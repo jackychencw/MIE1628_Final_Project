{
  "nbformat": 4,
  "nbformat_minor": 0,
  "metadata": {
    "colab": {
      "name": "MIE1628_Final_Project.ipynb",
      "provenance": [],
      "collapsed_sections": []
    },
    "kernelspec": {
      "name": "python3",
      "display_name": "Python 3"
    }
  },
  "cells": [
    {
      "cell_type": "code",
      "metadata": {
        "id": "Yht1EDwKE8Ke",
        "colab": {
          "base_uri": "https://localhost:8080/"
        },
        "outputId": "c6a56ad9-9bcf-4d42-8f50-c5e51e79ac2e"
      },
      "source": [
        "!pip install kaggle --upgrade"
      ],
      "execution_count": 1,
      "outputs": [
        {
          "output_type": "stream",
          "text": [
            "Collecting kaggle\n",
            "\u001b[?25l  Downloading https://files.pythonhosted.org/packages/99/33/365c0d13f07a2a54744d027fe20b60dacdfdfb33bc04746db6ad0b79340b/kaggle-1.5.10.tar.gz (59kB)\n",
            "\r\u001b[K     |█████▌                          | 10kB 16.0MB/s eta 0:00:01\r\u001b[K     |███████████                     | 20kB 15.9MB/s eta 0:00:01\r\u001b[K     |████████████████▋               | 30kB 10.0MB/s eta 0:00:01\r\u001b[K     |██████████████████████▏         | 40kB 7.9MB/s eta 0:00:01\r\u001b[K     |███████████████████████████▊    | 51kB 5.2MB/s eta 0:00:01\r\u001b[K     |████████████████████████████████| 61kB 3.5MB/s \n",
            "\u001b[?25hRequirement already satisfied, skipping upgrade: six>=1.10 in /usr/local/lib/python3.6/dist-packages (from kaggle) (1.15.0)\n",
            "Requirement already satisfied, skipping upgrade: certifi in /usr/local/lib/python3.6/dist-packages (from kaggle) (2020.11.8)\n",
            "Requirement already satisfied, skipping upgrade: python-dateutil in /usr/local/lib/python3.6/dist-packages (from kaggle) (2.8.1)\n",
            "Requirement already satisfied, skipping upgrade: requests in /usr/local/lib/python3.6/dist-packages (from kaggle) (2.23.0)\n",
            "Requirement already satisfied, skipping upgrade: tqdm in /usr/local/lib/python3.6/dist-packages (from kaggle) (4.41.1)\n",
            "Requirement already satisfied, skipping upgrade: python-slugify in /usr/local/lib/python3.6/dist-packages (from kaggle) (4.0.1)\n",
            "Requirement already satisfied, skipping upgrade: urllib3 in /usr/local/lib/python3.6/dist-packages (from kaggle) (1.24.3)\n",
            "Requirement already satisfied, skipping upgrade: idna<3,>=2.5 in /usr/local/lib/python3.6/dist-packages (from requests->kaggle) (2.10)\n",
            "Requirement already satisfied, skipping upgrade: chardet<4,>=3.0.2 in /usr/local/lib/python3.6/dist-packages (from requests->kaggle) (3.0.4)\n",
            "Requirement already satisfied, skipping upgrade: text-unidecode>=1.3 in /usr/local/lib/python3.6/dist-packages (from python-slugify->kaggle) (1.3)\n",
            "Building wheels for collected packages: kaggle\n",
            "  Building wheel for kaggle (setup.py) ... \u001b[?25l\u001b[?25hdone\n",
            "  Created wheel for kaggle: filename=kaggle-1.5.10-cp36-none-any.whl size=73269 sha256=93683f0144b1edbd948b076bf7041acdbd740c65063030bbc1b44ccd5da42c48\n",
            "  Stored in directory: /root/.cache/pip/wheels/3a/d1/7e/6ce09b72b770149802c653a02783821629146983ee5a360f10\n",
            "Successfully built kaggle\n",
            "Installing collected packages: kaggle\n",
            "  Found existing installation: kaggle 1.5.9\n",
            "    Uninstalling kaggle-1.5.9:\n",
            "      Successfully uninstalled kaggle-1.5.9\n",
            "Successfully installed kaggle-1.5.10\n"
          ],
          "name": "stdout"
        }
      ]
    },
    {
      "cell_type": "code",
      "metadata": {
        "id": "omBPp8FXEs0z",
        "colab": {
          "base_uri": "https://localhost:8080/"
        },
        "outputId": "9865fb1c-e0be-4df8-d845-a1ad979443b5"
      },
      "source": [
        "!kaggle competitions download -c malware-classification"
      ],
      "execution_count": 2,
      "outputs": [
        {
          "output_type": "stream",
          "text": [
            "Traceback (most recent call last):\n",
            "  File \"/usr/local/bin/kaggle\", line 5, in <module>\n",
            "    from kaggle.cli import main\n",
            "  File \"/usr/local/lib/python3.6/dist-packages/kaggle/__init__.py\", line 23, in <module>\n",
            "    api.authenticate()\n",
            "  File \"/usr/local/lib/python3.6/dist-packages/kaggle/api/kaggle_api_extended.py\", line 166, in authenticate\n",
            "    self.config_file, self.config_dir))\n",
            "OSError: Could not find kaggle.json. Make sure it's located in /root/.kaggle. Or use the environment method.\n"
          ],
          "name": "stdout"
        }
      ]
    },
    {
      "cell_type": "code",
      "metadata": {
        "id": "MdyJkxIDFTGl"
      },
      "source": [
        "import os\n",
        "from csv import writer"
      ],
      "execution_count": 3,
      "outputs": []
    },
    {
      "cell_type": "code",
      "metadata": {
        "id": "xmP8HGvyFVP4"
      },
      "source": [
        "def freq_count(path):\n",
        "    Files = os.listdir(path)\n",
        "    byteFiles = [i for i in Files if '.bytes' in i]\n",
        "    output = f'{path}_frequency.csv'\n",
        "    byteNum = 16 ** 2\n",
        "    \n",
        "    with open(output, 'w') as f:\n",
        "        fw = writer(f)\n",
        "        colnames = ['Id']\n",
        "        colnames += ['FR_'+hex(i)[2:] for i in range(byteNum)]\n",
        "        fw.writerow(colnames)\n",
        "        \n",
        "        for t, fname in enumerate(byteFiles):\n",
        "            f = open(f'{path}/{fname}', 'rb')\n",
        "            byteCount = [0] * byteNum\n",
        "            for row in f:\n",
        "                codes = row.strip().split()[1:]\n",
        "                twoByteCode = [int(i,16) for i in codes if i != b'??']                                     \n",
        "                for i in twoByteCode:\n",
        "                    byteCount[i] += 1\n",
        "                \n",
        "            newRow = [fname[:-6]]\n",
        "            newRow += byteCount\n",
        "\n",
        "            fw.writerow(newRow)"
      ],
      "execution_count": 4,
      "outputs": []
    },
    {
      "cell_type": "code",
      "metadata": {
        "id": "oT_ZkIHJFZqr"
      },
      "source": [
        "freq_count(\"sample\")"
      ],
      "execution_count": 5,
      "outputs": []
    },
    {
      "cell_type": "code",
      "metadata": {
        "id": "U82l-0buDlAJ"
      },
      "source": [
        "def "
      ],
      "execution_count": null,
      "outputs": []
    }
  ]
}